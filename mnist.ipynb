{
 "cells": [
  {
   "cell_type": "code",
   "execution_count": 1,
   "metadata": {
    "collapsed": true
   },
   "outputs": [],
   "source": [
    "import tensorflow as tf\n",
    "from tensorflow.examples.tutorials.mnist import input_data\n",
    "import numpy as np\n",
    "import matplotlib.pyplot as plt\n",
    "import matplotlib.gridspec as gridspec\n",
    "import os\n",
    "\n",
    "\n",
    "def random_init(size):\n",
    "    in_dim = size[0]\n",
    "    stddev = 1. / tf.sqrt(in_dim / 2.)\n",
    "    return tf.random_normal(shape=size, stddev=stddev)"
   ]
  },
  {
   "cell_type": "code",
   "execution_count": 2,
   "metadata": {
    "collapsed": true
   },
   "outputs": [],
   "source": [
    "X = tf.placeholder(tf.float32, shape=[None, 784])\n",
    "\n",
    "d_weights1 = tf.Variable(random_init([784, 128]))\n",
    "d_biases1 = tf.Variable(tf.zeros(shape=[128]))\n",
    "\n",
    "d_weights2 = tf.Variable(random_init([128, 1]))\n",
    "d_biases2 = tf.Variable(tf.zeros(shape=[1]))\n",
    "\n",
    "theta_D = [d_weights1, d_weights2, d_biases1, d_biases2]\n",
    "\n",
    "\n",
    "Z = tf.placeholder(tf.float32, shape=[None, 100])\n",
    "\n",
    "g_weights1 = tf.Variable(random_init([100, 392]))\n",
    "g_biases1 = tf.Variable(tf.zeros(shape=[392]))\n",
    "\n",
    "# g_weights2 = tf.Variable(random_init([128, 128]))\n",
    "# g_biases2 = tf.Variable(tf.zeros(shape=[128]))\n",
    "\n",
    "g_weights3 = tf.Variable(random_init([392, 784]))\n",
    "g_biases3 = tf.Variable(tf.zeros(shape=[784]))\n",
    "\n",
    "theta_G = [g_weights1, g_weights3, g_biases1, g_biases3]"
   ]
  },
  {
   "cell_type": "code",
   "execution_count": 3,
   "metadata": {
    "collapsed": true
   },
   "outputs": [],
   "source": [
    "def sample_Z(m, n):\n",
    "    return np.random.uniform(-1., 1., size=[m, n])"
   ]
  },
  {
   "cell_type": "code",
   "execution_count": 4,
   "metadata": {
    "collapsed": true
   },
   "outputs": [],
   "source": [
    "def generator(z):\n",
    "    g_layer1 = tf.nn.relu(tf.matmul(z, g_weights1) + g_biases1)\n",
    "#     g_layer2 = tf.nn.relu(tf.matmul(g_layer1, g_weights2) + g_biases2)\n",
    "    g_log_prob = tf.matmul(g_layer1, g_weights3) + g_biases3\n",
    "    g_prob = tf.nn.sigmoid(g_log_prob)\n",
    "\n",
    "    return g_prob"
   ]
  },
  {
   "cell_type": "code",
   "execution_count": 5,
   "metadata": {
    "collapsed": true
   },
   "outputs": [],
   "source": [
    "def discriminator(x):\n",
    "    d_layer1 = tf.nn.relu(tf.matmul(x, d_weights1) + d_biases1)\n",
    "    d_logit = tf.matmul(d_layer1, d_weights2) + d_biases2\n",
    "    d_prob = tf.nn.sigmoid(d_logit)\n",
    "\n",
    "    return d_prob, d_logit"
   ]
  },
  {
   "cell_type": "code",
   "execution_count": 6,
   "metadata": {
    "collapsed": true
   },
   "outputs": [],
   "source": [
    "# plotting function\n",
    "\n",
    "def plot(samples):\n",
    "    fig = plt.figure(figsize=(4, 4))\n",
    "    gs = gridspec.GridSpec(4, 4)\n",
    "    gs.update(wspace=0.05, hspace=0.05)\n",
    "\n",
    "    for i, sample in enumerate(samples):\n",
    "        ax = plt.subplot(gs[i])\n",
    "        plt.axis('off')\n",
    "        ax.set_xticklabels([])\n",
    "        ax.set_yticklabels([])\n",
    "        ax.set_aspect('equal')\n",
    "        plt.imshow(sample.reshape(28, 28), cmap='Greys_r')\n",
    "\n",
    "    return fig"
   ]
  },
  {
   "cell_type": "code",
   "execution_count": 7,
   "metadata": {},
   "outputs": [],
   "source": [
    "g_sample = generator(Z)\n",
    "d_real, d_logit_real = discriminator(X)\n",
    "d_fake, d_logit_fake = discriminator(g_sample)\n",
    "\n",
    "d_loss = -tf.reduce_mean(tf.log(d_real) + tf.log(1. - d_fake))\n",
    "g_loss = -tf.reduce_mean(tf.log(d_fake))"
   ]
  },
  {
   "cell_type": "code",
   "execution_count": 8,
   "metadata": {},
   "outputs": [
    {
     "name": "stdout",
     "output_type": "stream",
     "text": [
      "Extracting MNIST_data/train-images-idx3-ubyte.gz\n",
      "Extracting MNIST_data/train-labels-idx1-ubyte.gz\n",
      "Extracting MNIST_data/t10k-images-idx3-ubyte.gz\n",
      "Extracting MNIST_data/t10k-labels-idx1-ubyte.gz\n"
     ]
    }
   ],
   "source": [
    "d_solver = tf.train.AdamOptimizer().minimize(d_loss, var_list=theta_D)\n",
    "g_solver = tf.train.AdamOptimizer().minimize(g_loss, var_list=theta_G)\n",
    "\n",
    "mb_size = 128\n",
    "Z_dim = 100\n",
    "\n",
    "mnist = input_data.read_data_sets('MNIST_data', one_hot=True)"
   ]
  },
  {
   "cell_type": "code",
   "execution_count": 9,
   "metadata": {},
   "outputs": [
    {
     "name": "stdout",
     "output_type": "stream",
     "text": [
      "Iter: 0\n",
      "D loss: 1.515\n",
      "G_loss: 2.554\n",
      "\n",
      "Iter: 1000\n",
      "D loss: 0.0188\n",
      "G_loss: 7.052\n",
      "\n",
      "Iter: 2000\n",
      "D loss: 0.029\n",
      "G_loss: 6.152\n",
      "\n",
      "Iter: 3000\n",
      "D loss: 0.03708\n",
      "G_loss: 6.184\n",
      "\n",
      "Iter: 4000\n",
      "D loss: 0.1047\n",
      "G_loss: 6.041\n",
      "\n",
      "Iter: 5000\n",
      "D loss: 0.1883\n",
      "G_loss: 4.216\n",
      "\n",
      "Iter: 6000\n",
      "D loss: 0.3129\n",
      "G_loss: 3.658\n",
      "\n",
      "Iter: 7000\n",
      "D loss: 0.3847\n",
      "G_loss: 3.283\n",
      "\n",
      "Iter: 8000\n",
      "D loss: 0.4023\n",
      "G_loss: 3.132\n",
      "\n",
      "Iter: 9000\n",
      "D loss: 0.8032\n",
      "G_loss: 3.189\n",
      "\n",
      "Iter: 10000\n",
      "D loss: 0.6348\n",
      "G_loss: 2.589\n",
      "\n",
      "Iter: 11000\n",
      "D loss: 0.656\n",
      "G_loss: 3.349\n",
      "\n",
      "Iter: 12000\n",
      "D loss: 0.6913\n",
      "G_loss: 2.66\n",
      "\n",
      "Iter: 13000\n",
      "D loss: 0.6043\n",
      "G_loss: 2.439\n",
      "\n",
      "Iter: 14000\n",
      "D loss: 0.9143\n",
      "G_loss: 2.4\n",
      "\n",
      "Iter: 15000\n",
      "D loss: 0.7275\n",
      "G_loss: 2.405\n",
      "\n",
      "Iter: 16000\n",
      "D loss: 0.8048\n",
      "G_loss: 1.942\n",
      "\n",
      "Iter: 17000\n",
      "D loss: 0.721\n",
      "G_loss: 2.089\n",
      "\n",
      "Iter: 18000\n",
      "D loss: 0.8571\n",
      "G_loss: 2.144\n",
      "\n",
      "Iter: 19000\n",
      "D loss: 0.7563\n",
      "G_loss: 2.247\n",
      "\n",
      "Iter: 20000\n",
      "D loss: 0.7718\n",
      "G_loss: 1.635\n",
      "\n"
     ]
    }
   ],
   "source": [
    "sess = tf.Session()\n",
    "sess.run(tf.global_variables_initializer())\n",
    "\n",
    "if not os.path.exists('out/'):\n",
    "    os.makedirs('out/')\n",
    "\n",
    "i = 0\n",
    "\n",
    "for it in range(20001):\n",
    "    if it % 1000 == 0:\n",
    "        samples = sess.run(g_sample, feed_dict={Z: sample_Z(16, Z_dim)})\n",
    "\n",
    "        fig = plot(samples)\n",
    "        plt.savefig('out/{}.png'.format(str(i).zfill(3)), bbox_inches='tight')\n",
    "        i += 1\n",
    "        plt.close(fig)\n",
    "\n",
    "    X_mb, _ = mnist.train.next_batch(mb_size)\n",
    "\n",
    "    _, d_loss_curr = sess.run([d_solver, d_loss], feed_dict={X: X_mb, Z: sample_Z(mb_size, Z_dim)})\n",
    "    _, g_loss_curr = sess.run([g_solver, g_loss], feed_dict={Z: sample_Z(mb_size, Z_dim)})\n",
    "\n",
    "    if it % 1000 == 0:\n",
    "        print('Iter: {}'.format(it))\n",
    "        print('D loss: {:.4}'. format(d_loss_curr))\n",
    "        print('G_loss: {:.4}'.format(g_loss_curr))\n",
    "        print()\n"
   ]
  },
  {
   "cell_type": "code",
   "execution_count": 10,
   "metadata": {},
   "outputs": [
    {
     "data": {
      "text/plain": [
       "[2.596, 6.897, 6.356, 5.928, 4.588, 4.099, 3.724]"
      ]
     },
     "execution_count": 10,
     "metadata": {},
     "output_type": "execute_result"
    }
   ],
   "source": [
    "[2.596, 6.897, 6.356, 5.928, 4.588, 4.099, 3.724]"
   ]
  }
 ],
 "metadata": {
  "kernelspec": {
   "display_name": "Python 3",
   "language": "python",
   "name": "python3"
  },
  "language_info": {
   "codemirror_mode": {
    "name": "ipython",
    "version": 3
   },
   "file_extension": ".py",
   "mimetype": "text/x-python",
   "name": "python",
   "nbconvert_exporter": "python",
   "pygments_lexer": "ipython3",
   "version": "3.5.2"
  }
 },
 "nbformat": 4,
 "nbformat_minor": 2
}
